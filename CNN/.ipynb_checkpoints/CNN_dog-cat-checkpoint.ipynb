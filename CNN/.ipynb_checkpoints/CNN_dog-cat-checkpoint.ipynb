{
 "cells": [
  {
   "cell_type": "code",
   "execution_count": 1,
   "id": "81b7563d",
   "metadata": {},
   "outputs": [],
   "source": [
    "import tensorflow as tf\n",
    "from keras.preprocessing.image import ImageDataGenerator"
   ]
  },
  {
   "cell_type": "code",
   "execution_count": 5,
   "id": "65a36a6f",
   "metadata": {},
   "outputs": [
    {
     "data": {
      "text/plain": [
       "'2.9.1'"
      ]
     },
     "execution_count": 5,
     "metadata": {},
     "output_type": "execute_result"
    }
   ],
   "source": [
    "tf.version.VERSION"
   ]
  },
  {
   "cell_type": "markdown",
   "id": "e50299c2",
   "metadata": {},
   "source": [
    "# Part 1 - Data Preprocessing"
   ]
  },
  {
   "cell_type": "markdown",
   "id": "49428946",
   "metadata": {},
   "source": [
    "## Preprocessing the Traing set"
   ]
  },
  {
   "cell_type": "code",
   "execution_count": 6,
   "id": "f82ab6fd",
   "metadata": {},
   "outputs": [
    {
     "name": "stdout",
     "output_type": "stream",
     "text": [
      "Found 8000 images belonging to 2 classes.\n"
     ]
    }
   ],
   "source": [
    "train_datagen = ImageDataGenerator(rescale = 1./255,\n",
    "                                   shear_range = 0.2,\n",
    "                                   zoom_range = 0.2,\n",
    "                                   horizontal_flip = True)\n",
    "training_set = train_datagen.flow_from_directory('C:/Users/Arunita.000/Desktop/DLNLP/CNN Dataset/CNN Dataset/training_set',\n",
    "                                                 target_size = (64, 64),\n",
    "                                                 batch_size = 32,\n",
    "                                                 class_mode = 'binary')"
   ]
  },
  {
   "cell_type": "markdown",
   "id": "dcaa2817",
   "metadata": {},
   "source": [
    "## Preprocessing test set"
   ]
  },
  {
   "cell_type": "code",
   "execution_count": 7,
   "id": "9b90873d",
   "metadata": {},
   "outputs": [
    {
     "name": "stdout",
     "output_type": "stream",
     "text": [
      "Found 2000 images belonging to 2 classes.\n"
     ]
    }
   ],
   "source": [
    "test_datagen = ImageDataGenerator(rescale = 1./255)\n",
    "test_set = test_datagen.flow_from_directory('C:/Users\\Arunita.000/Desktop/DLNLP/CNN Dataset/CNN Dataset/test_set',\n",
    "                                            target_size = (64, 64),\n",
    "                                            batch_size = 32,\n",
    "                                            class_mode = 'binary')"
   ]
  },
  {
   "cell_type": "markdown",
   "id": "6bb8b7e1",
   "metadata": {},
   "source": [
    "# Part 2 - Building the CNN\n",
    "## Initialising the CNN"
   ]
  },
  {
   "cell_type": "code",
   "execution_count": 8,
   "id": "8305af41",
   "metadata": {},
   "outputs": [],
   "source": [
    "cnn = tf.keras.models.Sequential()"
   ]
  },
  {
   "cell_type": "markdown",
   "id": "decdf0f2",
   "metadata": {},
   "source": [
    "## Step 1 - Convolution"
   ]
  },
  {
   "cell_type": "code",
   "execution_count": 9,
   "id": "20768786",
   "metadata": {},
   "outputs": [],
   "source": [
    "cnn.add(tf.keras.layers.Conv2D(filters=32, kernel_size=3, activation='relu', input_shape=[64, 64, 3]))"
   ]
  },
  {
   "cell_type": "markdown",
   "id": "0d4e8cc4",
   "metadata": {},
   "source": [
    "## Step 2 - Pooling"
   ]
  },
  {
   "cell_type": "code",
   "execution_count": 10,
   "id": "201cc880",
   "metadata": {},
   "outputs": [],
   "source": [
    "cnn.add(tf.keras.layers.MaxPool2D(pool_size=2, strides=2))"
   ]
  },
  {
   "cell_type": "markdown",
   "id": "e128fc05",
   "metadata": {},
   "source": [
    "## Adding a second convolutional layer"
   ]
  },
  {
   "cell_type": "code",
   "execution_count": 11,
   "id": "9675d612",
   "metadata": {},
   "outputs": [],
   "source": [
    "cnn.add(tf.keras.layers.Conv2D(filters=32, kernel_size=3, activation='relu'))\n",
    "cnn.add(tf.keras.layers.MaxPool2D(pool_size=2, strides=2))"
   ]
  },
  {
   "cell_type": "markdown",
   "id": "8b5c40f5",
   "metadata": {},
   "source": [
    "## Step 3 - Flattening"
   ]
  },
  {
   "cell_type": "code",
   "execution_count": 12,
   "id": "a4357c8d",
   "metadata": {},
   "outputs": [],
   "source": [
    "cnn.add(tf.keras.layers.Flatten())"
   ]
  },
  {
   "cell_type": "markdown",
   "id": "b414dffc",
   "metadata": {},
   "source": [
    "## Step 4 - Full Connection"
   ]
  },
  {
   "cell_type": "code",
   "execution_count": 13,
   "id": "fc171ea6",
   "metadata": {},
   "outputs": [],
   "source": [
    "cnn.add(tf.keras.layers.Dense(units=128, activation='relu'))"
   ]
  },
  {
   "cell_type": "markdown",
   "id": "ee7652e4",
   "metadata": {},
   "source": [
    "## Step 5 - Output Layer"
   ]
  },
  {
   "cell_type": "code",
   "execution_count": 14,
   "id": "e3af44e4",
   "metadata": {},
   "outputs": [],
   "source": [
    "cnn.add(tf.keras.layers.Dense(units=1, activation='sigmoid'))"
   ]
  },
  {
   "cell_type": "markdown",
   "id": "c28ea879",
   "metadata": {},
   "source": [
    "# Part 3 - Training the CNN\n",
    "## Compiling the CNN"
   ]
  },
  {
   "cell_type": "code",
   "execution_count": 15,
   "id": "a50a2e4a",
   "metadata": {},
   "outputs": [],
   "source": [
    "cnn.compile(optimizer = 'adam', loss = 'binary_crossentropy', metrics = ['accuracy'])"
   ]
  },
  {
   "cell_type": "markdown",
   "id": "cb977c76",
   "metadata": {},
   "source": [
    "### Training the CNN on the Training set and evaluating it on the Test set"
   ]
  },
  {
   "cell_type": "code",
   "execution_count": 16,
   "id": "bee3a4c8",
   "metadata": {},
   "outputs": [
    {
     "name": "stdout",
     "output_type": "stream",
     "text": [
      "Epoch 1/25\n",
      "250/250 [==============================] - 70s 277ms/step - loss: 0.6807 - accuracy: 0.5639 - val_loss: 0.6301 - val_accuracy: 0.6690\n",
      "Epoch 2/25\n",
      "250/250 [==============================] - 65s 260ms/step - loss: 0.6202 - accuracy: 0.6596 - val_loss: 0.5858 - val_accuracy: 0.7090\n",
      "Epoch 3/25\n",
      "250/250 [==============================] - 64s 258ms/step - loss: 0.5688 - accuracy: 0.7092 - val_loss: 0.5357 - val_accuracy: 0.7365\n",
      "Epoch 4/25\n",
      "250/250 [==============================] - 64s 257ms/step - loss: 0.5317 - accuracy: 0.7325 - val_loss: 0.5098 - val_accuracy: 0.7605\n",
      "Epoch 5/25\n",
      "250/250 [==============================] - 70s 279ms/step - loss: 0.5057 - accuracy: 0.7515 - val_loss: 0.4904 - val_accuracy: 0.7725\n",
      "Epoch 6/25\n",
      "250/250 [==============================] - 69s 278ms/step - loss: 0.4761 - accuracy: 0.7746 - val_loss: 0.4924 - val_accuracy: 0.7685\n",
      "Epoch 7/25\n",
      "250/250 [==============================] - 69s 275ms/step - loss: 0.4635 - accuracy: 0.7786 - val_loss: 0.4848 - val_accuracy: 0.7715\n",
      "Epoch 8/25\n",
      "250/250 [==============================] - 65s 258ms/step - loss: 0.4522 - accuracy: 0.7894 - val_loss: 0.4674 - val_accuracy: 0.7940\n",
      "Epoch 9/25\n",
      "250/250 [==============================] - 64s 256ms/step - loss: 0.4364 - accuracy: 0.7956 - val_loss: 0.4660 - val_accuracy: 0.7945\n",
      "Epoch 10/25\n",
      "250/250 [==============================] - 65s 261ms/step - loss: 0.4217 - accuracy: 0.8075 - val_loss: 0.4673 - val_accuracy: 0.7930\n",
      "Epoch 11/25\n",
      "250/250 [==============================] - 67s 266ms/step - loss: 0.4107 - accuracy: 0.8074 - val_loss: 0.4633 - val_accuracy: 0.7880\n",
      "Epoch 12/25\n",
      "250/250 [==============================] - 64s 258ms/step - loss: 0.3924 - accuracy: 0.8185 - val_loss: 0.5481 - val_accuracy: 0.7545\n",
      "Epoch 13/25\n",
      "250/250 [==============================] - 68s 271ms/step - loss: 0.3786 - accuracy: 0.8270 - val_loss: 0.4794 - val_accuracy: 0.7915\n",
      "Epoch 14/25\n",
      "250/250 [==============================] - 68s 271ms/step - loss: 0.3730 - accuracy: 0.8286 - val_loss: 0.4633 - val_accuracy: 0.7925\n",
      "Epoch 15/25\n",
      "250/250 [==============================] - 65s 260ms/step - loss: 0.3502 - accuracy: 0.8397 - val_loss: 0.4774 - val_accuracy: 0.7960\n",
      "Epoch 16/25\n",
      "250/250 [==============================] - 65s 262ms/step - loss: 0.3424 - accuracy: 0.8485 - val_loss: 0.4856 - val_accuracy: 0.7770\n",
      "Epoch 17/25\n",
      "250/250 [==============================] - 64s 258ms/step - loss: 0.3259 - accuracy: 0.8601 - val_loss: 0.4811 - val_accuracy: 0.8050\n",
      "Epoch 18/25\n",
      "250/250 [==============================] - 64s 257ms/step - loss: 0.3247 - accuracy: 0.8549 - val_loss: 0.5366 - val_accuracy: 0.7700\n",
      "Epoch 19/25\n",
      "250/250 [==============================] - 68s 271ms/step - loss: 0.3105 - accuracy: 0.8684 - val_loss: 0.4888 - val_accuracy: 0.7960\n",
      "Epoch 20/25\n",
      "250/250 [==============================] - 66s 262ms/step - loss: 0.2967 - accuracy: 0.8674 - val_loss: 0.5037 - val_accuracy: 0.8005\n",
      "Epoch 21/25\n",
      "250/250 [==============================] - 66s 264ms/step - loss: 0.2877 - accuracy: 0.8756 - val_loss: 0.4907 - val_accuracy: 0.8000\n",
      "Epoch 22/25\n",
      "250/250 [==============================] - 65s 259ms/step - loss: 0.2676 - accuracy: 0.8869 - val_loss: 0.4729 - val_accuracy: 0.8115\n",
      "Epoch 23/25\n",
      "250/250 [==============================] - 66s 264ms/step - loss: 0.2592 - accuracy: 0.8928 - val_loss: 0.5084 - val_accuracy: 0.7945\n",
      "Epoch 24/25\n",
      "250/250 [==============================] - 66s 266ms/step - loss: 0.2457 - accuracy: 0.8997 - val_loss: 0.5080 - val_accuracy: 0.8060\n",
      "Epoch 25/25\n",
      "250/250 [==============================] - 66s 263ms/step - loss: 0.2303 - accuracy: 0.9084 - val_loss: 0.4976 - val_accuracy: 0.8115\n"
     ]
    },
    {
     "data": {
      "text/plain": [
       "<keras.callbacks.History at 0x1eb8e389d60>"
      ]
     },
     "execution_count": 16,
     "metadata": {},
     "output_type": "execute_result"
    }
   ],
   "source": [
    "cnn.fit(x = training_set, validation_data = test_set, epochs = 25)"
   ]
  },
  {
   "cell_type": "markdown",
   "id": "9c5ca2f6",
   "metadata": {},
   "source": [
    "# Part 4 - Making a single prediction"
   ]
  },
  {
   "cell_type": "code",
   "execution_count": 20,
   "id": "e8233cc3",
   "metadata": {},
   "outputs": [
    {
     "name": "stdout",
     "output_type": "stream",
     "text": [
      "1/1 [==============================] - 0s 23ms/step\n"
     ]
    }
   ],
   "source": [
    "import numpy as np\n",
    "from keras.preprocessing import image\n",
    "test_image = tf.keras.utils.load_img('C:/Users/Arunita.000/Desktop/DLNLP/CNN Dataset/CNN Dataset/single_prediction/cat_or_dog_1.jpg', target_size = (64, 64))\n",
    "test_image = tf.keras.utils.img_to_array(test_image)\n",
    "test_image = np.expand_dims(test_image, axis = 0)\n",
    "result = cnn.predict(test_image)\n",
    "training_set.class_indices\n",
    "if result[0][0] == 1:\n",
    "  prediction = 'dog'\n",
    "else:\n",
    "  prediction = 'cat'"
   ]
  },
  {
   "cell_type": "code",
   "execution_count": 21,
   "id": "6d9f2feb",
   "metadata": {},
   "outputs": [
    {
     "name": "stdout",
     "output_type": "stream",
     "text": [
      "dog\n"
     ]
    }
   ],
   "source": [
    "print(prediction)"
   ]
  },
  {
   "cell_type": "code",
   "execution_count": 22,
   "id": "db7ea894",
   "metadata": {},
   "outputs": [
    {
     "name": "stdout",
     "output_type": "stream",
     "text": [
      "1/1 [==============================] - 0s 20ms/step\n"
     ]
    }
   ],
   "source": [
    "import numpy as np\n",
    "from keras.preprocessing import image\n",
    "test_image = tf.keras.utils.load_img('C:/Users/Arunita.000/Desktop/DLNLP/CNN Dataset/CNN Dataset/single_prediction/cat_or_dog_2.jpg', target_size = (64, 64))\n",
    "test_image = tf.keras.utils.img_to_array(test_image)\n",
    "test_image = np.expand_dims(test_image, axis = 0)\n",
    "result = cnn.predict(test_image)\n",
    "training_set.class_indices\n",
    "if result[0][0] == 1:\n",
    "  prediction = 'dog'\n",
    "else:\n",
    "  prediction = 'cat'"
   ]
  },
  {
   "cell_type": "code",
   "execution_count": 23,
   "id": "101bab45",
   "metadata": {},
   "outputs": [
    {
     "name": "stdout",
     "output_type": "stream",
     "text": [
      "cat\n"
     ]
    }
   ],
   "source": [
    "print(prediction)"
   ]
  },
  {
   "cell_type": "code",
   "execution_count": null,
   "id": "18295fbc",
   "metadata": {},
   "outputs": [],
   "source": []
  }
 ],
 "metadata": {
  "kernelspec": {
   "display_name": "Python 3",
   "language": "python",
   "name": "python3"
  },
  "language_info": {
   "codemirror_mode": {
    "name": "ipython",
    "version": 3
   },
   "file_extension": ".py",
   "mimetype": "text/x-python",
   "name": "python",
   "nbconvert_exporter": "python",
   "pygments_lexer": "ipython3",
   "version": "3.8.8"
  }
 },
 "nbformat": 4,
 "nbformat_minor": 5
}
